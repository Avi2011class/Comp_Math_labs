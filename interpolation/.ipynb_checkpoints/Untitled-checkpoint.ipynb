{
 "cells": [
  {
   "cell_type": "code",
   "execution_count": 2,
   "metadata": {},
   "outputs": [],
   "source": [
    "import numpy as np\n",
    "import matplotlib.pyplot as plt\n",
    "%matplotlib inline\n",
    "\n",
    "from pylab import rcParams\n",
    "rcParams['figure.figsize'] = 10, 8"
   ]
  },
  {
   "cell_type": "code",
   "execution_count": 3,
   "metadata": {
    "collapsed": true
   },
   "outputs": [],
   "source": [
    "def f(x):\n",
    "    return np.sin(x)"
   ]
  },
  {
   "cell_type": "code",
   "execution_count": 43,
   "metadata": {},
   "outputs": [],
   "source": [
    "class SystemSolver:\n",
    "    def __init__(self):\n",
    "        self.arr = []\n",
    "        self.declarations = set()\n",
    "        \n",
    "    def add(self, s):\n",
    "        var, res = s.split('=')\n",
    "        var = var.split(',')\n",
    "        vector = []\n",
    "        \n",
    "        for substr in var:\n",
    "            index = 0\n",
    "            while not substr[index].isalpha():\n",
    "                index += 1\n",
    "            vector.append((float(substr[:index]), substr[index:]) )\n",
    "            self.declarations.add(substr[index:]) \n",
    "            \n",
    "        self.arr.append( (vector, float(res)) )\n",
    "                          \n",
    "        print(self.arr)\n",
    "        \n",
    "    def solve(self):\n",
    "        decl =  {item : index for index, item in enumerate(self.declarations)} \n",
    "        \n",
    "        if len(decl) != len(self.arr):\n",
    "            print('Ошибочное число уравнений')\n",
    "            return\n",
    "        \n",
    "        \n",
    "        \n",
    "        "
   ]
  },
  {
   "cell_type": "code",
   "execution_count": 44,
   "metadata": {},
   "outputs": [
    {
     "name": "stdout",
     "output_type": "stream",
     "text": [
      "[([(12.0, 'x1'), (16.0, 'l2'), (87.0, 'r3')], 22.0)]\n",
      "{'l2': 0, 'x1': 1, 'r3': 2}\n"
     ]
    }
   ],
   "source": [
    "s = SystemSolver()\n",
    "s.add('12x1,16l2,87r3=22')\n",
    "s.solve()"
   ]
  },
  {
   "cell_type": "code",
   "execution_count": 18,
   "metadata": {},
   "outputs": [
    {
     "name": "stdout",
     "output_type": "stream",
     "text": [
      "[ 0.          6.28318531]\n",
      "0.0 0.0 0.0\n",
      "6.28318530718 39.4784176044 248.050213442\n",
      "[[   1.            0.            0.            0.        ]\n",
      " [   1.            6.28318531   39.4784176   248.05021344]\n",
      " [   0.            0.            0.            0.        ]\n",
      " [   0.            0.            0.            0.        ]]\n",
      "[[  0.00000000e+00]\n",
      " [ -2.44929360e-16]\n",
      " [  0.00000000e+00]\n",
      " [  0.00000000e+00]]\n"
     ]
    }
   ],
   "source": [
    "N = 2\n",
    "\n",
    "knots = np.array(np.linspace(0, 2 * np.pi, N))\n",
    "print(knots)\n",
    "\n",
    "# ax^3 + bx^2+cx+d\n",
    "\n",
    "arr = np.zeros((4 * (N - 1), 4 * (N - 1)))\n",
    "b = np.zeros((4 * (N - 1), 1))\n",
    "\n",
    "# 1 .. N - 1\n",
    "# непрерывность, 1, 2 производные, значение\n",
    "\n",
    "for i in range(0, N - 1):\n",
    "    x1 = knots[i]\n",
    "    x2 = x1 ** 2\n",
    "    x3 = x1 ** 3\n",
    "    print(x1, x2, x3)\n",
    "    \n",
    "    # Значение слева\n",
    "    arr[i * 4][0 + 4 * i] = 1\n",
    "    arr[i * 4][1 + 4 * i] = x1\n",
    "    arr[i * 4][2 + 4 * i] = x2\n",
    "    arr[i * 4][3 + 4 * i] = x3\n",
    "    b[i * 4] = f(x1)\n",
    "    \n",
    "    x1 = knots[i + 1]\n",
    "    x2 = x1 ** 2\n",
    "    x3 = x1 ** 3\n",
    "    print(x1, x2, x3)\n",
    "    \n",
    "    # Значение справа\n",
    "    arr[i * 4 + 1][0 + 4 * i] = 1\n",
    "    arr[i * 4 + 1][1 + 4 * i] = x1\n",
    "    arr[i * 4 + 1][2 + 4 * i] = x2\n",
    "    arr[i * 4 + 1][3 + 4 * i] = x3\n",
    "    b[i * 4 + 1] = f(x1)\n",
    "    \n",
    "    # Производная слева\n",
    "    \n",
    "    \n",
    "    \n",
    "print(arr)\n",
    "print(b)\n",
    "    \n",
    "    \n",
    "    \n"
   ]
  },
  {
   "cell_type": "code",
   "execution_count": null,
   "metadata": {
    "collapsed": true
   },
   "outputs": [],
   "source": []
  }
 ],
 "metadata": {
  "kernelspec": {
   "display_name": "Python 3",
   "language": "python",
   "name": "python3"
  },
  "language_info": {
   "codemirror_mode": {
    "name": "ipython",
    "version": 3
   },
   "file_extension": ".py",
   "mimetype": "text/x-python",
   "name": "python",
   "nbconvert_exporter": "python",
   "pygments_lexer": "ipython3",
   "version": "3.6.1"
  }
 },
 "nbformat": 4,
 "nbformat_minor": 2
}
